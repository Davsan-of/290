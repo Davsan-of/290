{
 "cells": [
  {
   "cell_type": "markdown",
   "metadata": {
    "id": "eI7v3vaJNyqQ"
   },
   "source": [
    "#Section 1: Installing Linux into Virtual Machine\n",
    "\n",
    "##Due to my homemate's advice, I've installed Ubuntu LTS 24.04.1 into Virtual Box. I also installed ssh both on my Windows and VM, you can see the details on the video.\n",
    "https://www.youtube.com/watch?v=fCaTQt9nmd0\n",
    "I had no problem with the installation.\n"
   ]
  },
  {
   "cell_type": "markdown",
   "metadata": {
    "id": "JZ_xUC3aPvqK"
   },
   "source": [
    "#Section 2: Lightbot with VPython\n"
   ]
  },
  {
   "cell_type": "code",
   "execution_count": 5,
   "metadata": {
    "colab": {
     "base_uri": "https://localhost:8080/"
    },
    "id": "I5kJsTsRQQFM",
    "outputId": "13c236b3-62f9-444a-e2b9-f451079a0d16"
   },
   "outputs": [
    {
     "name": "stdout",
     "output_type": "stream",
     "text": [
      "Requirement already satisfied: vpython in c:\\users\\asus\\anaconda3\\lib\\site-packages (7.6.5)\n",
      "Requirement already satisfied: jupyter in c:\\users\\asus\\anaconda3\\lib\\site-packages (from vpython) (1.0.0)\n",
      "Requirement already satisfied: jupyter-server-proxy in c:\\users\\asus\\anaconda3\\lib\\site-packages (from vpython) (4.4.0)\n",
      "Requirement already satisfied: jupyterlab-vpython>=3.1.8 in c:\\users\\asus\\anaconda3\\lib\\site-packages (from vpython) (3.1.8)\n",
      "Requirement already satisfied: numpy in c:\\users\\asus\\anaconda3\\lib\\site-packages (from vpython) (1.26.4)\n",
      "Requirement already satisfied: ipykernel in c:\\users\\asus\\anaconda3\\lib\\site-packages (from vpython) (6.28.0)\n",
      "Requirement already satisfied: autobahn<27,>=22.6.1 in c:\\users\\asus\\anaconda3\\lib\\site-packages (from vpython) (24.4.2)\n",
      "Requirement already satisfied: txaio>=21.2.1 in c:\\users\\asus\\anaconda3\\lib\\site-packages (from autobahn<27,>=22.6.1->vpython) (23.1.1)\n",
      "Requirement already satisfied: cryptography>=3.4.6 in c:\\users\\asus\\anaconda3\\lib\\site-packages (from autobahn<27,>=22.6.1->vpython) (43.0.0)\n",
      "Requirement already satisfied: hyperlink>=21.0.0 in c:\\users\\asus\\anaconda3\\lib\\site-packages (from autobahn<27,>=22.6.1->vpython) (21.0.0)\n",
      "Requirement already satisfied: setuptools in c:\\users\\asus\\anaconda3\\lib\\site-packages (from autobahn<27,>=22.6.1->vpython) (75.1.0)\n",
      "Requirement already satisfied: comm>=0.1.1 in c:\\users\\asus\\anaconda3\\lib\\site-packages (from ipykernel->vpython) (0.2.1)\n",
      "Requirement already satisfied: debugpy>=1.6.5 in c:\\users\\asus\\anaconda3\\lib\\site-packages (from ipykernel->vpython) (1.6.7)\n",
      "Requirement already satisfied: ipython>=7.23.1 in c:\\users\\asus\\anaconda3\\lib\\site-packages (from ipykernel->vpython) (8.27.0)\n",
      "Requirement already satisfied: jupyter-client>=6.1.12 in c:\\users\\asus\\anaconda3\\lib\\site-packages (from ipykernel->vpython) (8.6.0)\n",
      "Requirement already satisfied: jupyter-core!=5.0.*,>=4.12 in c:\\users\\asus\\anaconda3\\lib\\site-packages (from ipykernel->vpython) (5.7.2)\n",
      "Requirement already satisfied: matplotlib-inline>=0.1 in c:\\users\\asus\\anaconda3\\lib\\site-packages (from ipykernel->vpython) (0.1.6)\n",
      "Requirement already satisfied: nest-asyncio in c:\\users\\asus\\anaconda3\\lib\\site-packages (from ipykernel->vpython) (1.6.0)\n",
      "Requirement already satisfied: packaging in c:\\users\\asus\\anaconda3\\lib\\site-packages (from ipykernel->vpython) (24.1)\n",
      "Requirement already satisfied: psutil in c:\\users\\asus\\anaconda3\\lib\\site-packages (from ipykernel->vpython) (5.9.0)\n",
      "Requirement already satisfied: pyzmq>=24 in c:\\users\\asus\\anaconda3\\lib\\site-packages (from ipykernel->vpython) (25.1.2)\n",
      "Requirement already satisfied: tornado>=6.1 in c:\\users\\asus\\anaconda3\\lib\\site-packages (from ipykernel->vpython) (6.4.1)\n",
      "Requirement already satisfied: traitlets>=5.4.0 in c:\\users\\asus\\anaconda3\\lib\\site-packages (from ipykernel->vpython) (5.14.3)\n",
      "Requirement already satisfied: notebook in c:\\users\\asus\\anaconda3\\lib\\site-packages (from jupyter->vpython) (7.2.2)\n",
      "Requirement already satisfied: qtconsole in c:\\users\\asus\\anaconda3\\lib\\site-packages (from jupyter->vpython) (5.5.1)"
     ]
    }
   ],
   "source": [
    "!pip install vpython"
   ]
  },
  {
   "cell_type": "markdown",
   "metadata": {
    "id": "W5wxtQFUQcfr"
   },
   "source": [
    "##So, we see that Google Colab cannot import VPython, hence I go with Anaconda Jupyter, it is recommended to be run on that too."
   ]
  },
  {
   "cell_type": "code",
   "execution_count": 1,
   "metadata": {
    "colab": {
     "base_uri": "https://localhost:8080/",
     "height": 315
    },
    "id": "yqywAxXPNraA",
    "outputId": "5bb41848-ea38-4063-a197-f4fb40af3d6c"
   },
   "outputs": [
    {
     "data": {
      "text/html": [
       "<div id=\"glowscript\" class=\"glowscript\"></div>"
      ],
      "text/plain": [
       "<IPython.core.display.HTML object>"
      ]
     },
     "metadata": {},
     "output_type": "display_data"
    },
    {
     "data": {
      "application/javascript": [
       "if (typeof Jupyter !== \"undefined\") { window.__context = { glowscript_container: $(\"#glowscript\").removeAttr(\"id\")};}else{ element.textContent = ' ';}"
      ],
      "text/plain": [
       "<IPython.core.display.Javascript object>"
      ]
     },
     "metadata": {},
     "output_type": "display_data"
    }
   ],
   "source": [
    "from vpython import*"
   ]
  },
  {
   "cell_type": "code",
   "execution_count": null,
   "metadata": {
    "id": "9MP1tvRuP6G9"
   },
   "outputs": [
    {
     "name": "stdout",
     "output_type": "stream",
     "text": [
      "WELCOME!\n",
      "Alpha version of your lightbot game, you start from the yellow point.\n",
      "^ = move in the direction\n",
      "* = jump in the direction\n",
      "< = turn right\n",
      "> = turn left\n",
      "@ = switch the colors!\n"
     ]
    },
    {
     "name": "stdin",
     "output_type": "stream",
     "text": [
      "Please enter a command: ^\n"
     ]
    },
    {
     "name": "stdout",
     "output_type": "stream",
     "text": [
      "x: 1 \n",
      " y: 0 \n",
      " direction: 0\n",
      "[1, '1', 1, 1, 1, 1, 1, 1, 1, 1]\n",
      "[1, 1, 1, 1, 1, 1, 1, 1, 1, 1]\n",
      "[1, 1, 1, 1, 1, 1, 1, 1, 1, 1]\n",
      "[1, 1, 1, 1, 1, 1, 1, 1, 1, 1]\n",
      "[1, 1, 1, 1, 1, 1, 1, 1, 1, 1]\n",
      "[1, 1, 1, 1, 1, 1, 1, 1, 1, 1]\n",
      "[1, 1, 1, 1, 1, 1, 1, 1, 1, 1]\n",
      "[1, 1, 1, 1, 1, 1, 1, 1, 1, 1]\n",
      "[1, 1, 1, 1, 1, 1, 1, 1, 1, 1]\n",
      "[1, 1, 1, 1, 1, 1, 1, 1, 1, 1]\n"
     ]
    }
   ],
   "source": [
    "from vpython import*\n",
    "\n",
    "#\"height\">height of each box, default height between boxes are n*10, otherwise it won't work\n",
    "#\"colour\"> 1:red, -1: blue\n",
    "##Current map is 10*10 plane with different heights with all red squares\n",
    "map = [[{} for _ in range(10)] for _ in range(10)] ##lists are starting from top left corner of the matrix\n",
    "colour = [1,1,1,1,1,1,1,1,1,1,\n",
    "          1,1,1,1,1,1,1,1,1,1,\n",
    "          1,1,1,1,1,1,1,1,1,1,\n",
    "          1,1,1,1,1,1,1,1,1,1,\n",
    "          1,1,1,1,1,1,1,1,1,1,\n",
    "          1,1,1,1,1,1,1,1,1,1,\n",
    "          1,1,1,1,1,1,1,1,1,1,\n",
    "          1,1,1,1,1,1,1,1,1,1,\n",
    "          1,1,1,1,1,1,1,1,1,1,\n",
    "          1,1,1,1,1,1,1,1,1,1]\n",
    "height = [0,0,0,1,1,1,0,0,0,0,\n",
    "          0,1,1,0,0,0,1,1,0,0,\n",
    "          0,1,1,0,0,0,1,1,0,0,\n",
    "          0,1,1,0,0,0,1,1,0,0,\n",
    "          0,0,0,1,1,1,0,0,0,0,\n",
    "          0,0,0,1,1,1,0,0,0,0,\n",
    "          0,1,1,0,0,0,1,1,0,0,\n",
    "          0,1,1,0,0,0,1,1,0,0,\n",
    "          0,1,1,0,0,0,1,1,0,0,\n",
    "          0,0,0,1,1,1,0,0,0,0]\n",
    "for i in range(10):\n",
    "  for j in range(10):\n",
    "\n",
    "      mybox = box(pos=vector(j*21,i*21, height[i*10+j]*20), size=vector(20,20,20), color=color.red)\n",
    "\n",
    "      map[i][j] = {\"height\": height[i*10+j],\"colour\": colour[i*10+j], \"box\":mybox}\n",
    "\n",
    "def lightboat(map):#start at 0,0(top left corner facing right)\n",
    "  print(\"WELCOME!\")\n",
    "  print(\"Alpha version of your lightbot game, you start from the yellow point.\")\n",
    "  print(\"^ = move in the direction\")\n",
    "  print(\"* = jump in the direction\")\n",
    "  print(\"< = turn right\")\n",
    "  print(\"> = turn left\")\n",
    "  print(\"@ = switch the colors!\")\n",
    "  ymax = len(map)\n",
    "  xmax = len(map[0])\n",
    "  x=0 ##j in for loop\n",
    "  y=0 ##i in for loop\n",
    "  direction = 0 ## 0-east 1-south 2-west 3-north so that i can increase the direction by 1 for every clockwise turn, south and west are flipped in the visual\n",
    "\n",
    "  while True:\n",
    "\n",
    "    command = input(\"Please enter a command:\")\n",
    "    if command==\"^\":\n",
    "      if direction == 0:\n",
    "        if map[y][x][\"height\"] == map[y][x+1][\"height\"]:\n",
    "          x = x+1\n",
    "      if direction == 1:\n",
    "        if map[y][x][\"height\"] == map[y+1][x][\"height\"]:\n",
    "          y = y+1\n",
    "      if direction == 2:\n",
    "        if map[y][x][\"height\"] == map[y][x-1][\"height\"]:\n",
    "          x = x-1\n",
    "      if direction == 3:\n",
    "        if map[y][x][\"height\"] == map[y-1][x][\"height\"]:\n",
    "          y = y-1\n",
    "    if command==\"*\":\n",
    "      if direction == 0:\n",
    "        if abs(map[y][x][\"height\"] - map[y][x+1][\"height\"])==1:\n",
    "          x = x+1\n",
    "      if direction == 1:\n",
    "        if abs(map[y][x][\"height\"] - map[y+1][x][\"height\"])==1:\n",
    "          y = y+1\n",
    "      if direction == 2:\n",
    "        if abs(map[y][x][\"height\"] - map[y][x-1][\"height\"])==1:\n",
    "          x = x-1\n",
    "      if direction == 3:\n",
    "        if abs(map[y][x][\"height\"] - map[y-1][x][\"height\"])==1:\n",
    "          y = y-1\n",
    "    if command==\"<\":\n",
    "      direction = (direction-1)%4\n",
    "    if command==\">\":\n",
    "      direction = (direction+1)%4\n",
    "    if command==\"@\":\n",
    "      map[y][x][\"colour\"] = -1*map[y][x][\"colour\"]\n",
    "    if (x == xmax) or (y == ymax) or (x == -1) or (y == -1) :\n",
    "      print(\"hehe you fell off\")\n",
    "      break\n",
    "    if command==\"q\":\n",
    "      break\n",
    "\n",
    "\n",
    "    for i in range(ymax):\n",
    "        for j in range(xmax):\n",
    "\n",
    "            if map[i][j][\"colour\"] == -1:\n",
    "              print(i, j)\n",
    "              map[i][j][\"box\"].color = color.green\n",
    "            else:\n",
    "\n",
    "              map[i][j][\"box\"].color = color.red\n",
    "\n",
    "\n",
    "\n",
    "    printMap(map,x,y,direction,xmax,ymax)\n",
    "\n",
    "lightbot_begin = sphere(pos=vec(0, 0, 21), radius=4, color=color.yellow,)\n",
    "lightbot_sphere = sphere(pos=vec(0, 0, 0), radius=2, color=color.cyan, opacity=0)\n",
    "\n",
    "def printMap(map,x,y,direction,xmax,ymax):\n",
    "  print(\"x:\", x, \"\\n y:\", y, \"\\n direction:\", direction)\n",
    "  final_map = [[0 for _ in range(xmax)] for _ in range(ymax)]\n",
    "  for i in range(ymax):\n",
    "    for j in range(xmax):\n",
    "        rate(30)\n",
    "        if i == y and j == x:\n",
    "          final_map[i][j] = str(map[i][j][\"colour\"])\n",
    "          global lightbot_sphere\n",
    "          lightbot_sphere.visible = False\n",
    "\n",
    "          if map[y][x][\"height\"] == 1:\n",
    "              lightbot_sphere = sphere(pos=vec(j*21, i*21, height[i*10+j]+41), radius=10, color=color.cyan)\n",
    "          else:\n",
    "              lightbot_sphere = sphere(pos=vec(j*21, i*21, height[i*10+j]+21), radius=10, color=color.cyan)\n",
    "        else:\n",
    "          final_map[i][j] = map[i][j][\"colour\"]\n",
    "  for i in range(ymax):\n",
    "    print(final_map[i])\n",
    "  return \"Succesfully completed\"\n",
    "\n",
    "lightboat(map)"
   ]
  },
  {
   "cell_type": "markdown",
   "metadata": {},
   "source": [
    "#Therefore, our cute spherical lightbot (I had to do as a physicist candidate) can move, jump, turn and switch the lights with your commands!"
   ]
  }
 ],
 "metadata": {
  "colab": {
   "provenance": []
  },
  "kernelspec": {
   "display_name": "Python 3 (ipykernel)",
   "language": "python",
   "name": "python3"
  },
  "language_info": {
   "codemirror_mode": {
    "name": "ipython",
    "version": 3
   },
   "file_extension": ".py",
   "mimetype": "text/x-python",
   "name": "python",
   "nbconvert_exporter": "python",
   "pygments_lexer": "ipython3",
   "version": "3.12.7"
  }
 },
 "nbformat": 4,
 "nbformat_minor": 4
}
