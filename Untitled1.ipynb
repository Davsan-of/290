{
 "cells": [
  {
   "cell_type": "code",
   "execution_count": 8,
   "outputs": [
    {
     "name": "stderr",
     "output_type": "stream",
     "text": [
      "\n"
     ]
    },
    {
     "name": "stdout",
     "output_type": "stream",
     "text": [
      "Requirement already satisfied: vpython in c:\\users\\asus\\appdata\\local\\programs\\python\\python311\\lib\\site-packages (7.6.5)"
     ]
    },
    {
     "name": "stderr",
     "output_type": "stream",
     "text": [
      "[notice] A new release of pip is available: 24.2 -> 24.3.1"
     ]
    },
    {
     "name": "stdout",
     "output_type": "stream",
     "text": [
      "\n"
     ]
    },
    {
     "name": "stderr",
     "output_type": "stream",
     "text": [
      "\n"
     ]
    },
    {
     "name": "stdout",
     "output_type": "stream",
     "text": [
      "Requirement already satisfied: jupyter in c:\\users\\asus\\appdata\\local\\programs\\python\\python311\\lib\\site-packages (from vpython) (1.1.1)"
     ]
    },
    {
     "name": "stderr",
     "output_type": "stream",
     "text": [
      "[notice] To update, run: python.exe -m pip install --upgrade pip\n"
     ]
    },
    {
     "name": "stdout",
     "output_type": "stream",
     "text": [
      "\n"
     ]
    }
   ],
   "source": [
    "!pip install vpython"
   ],
   "metadata": {
    "collapsed": false,
    "ExecuteTime": {
     "end_time": "2024-11-27T19:49:09.134726800Z",
     "start_time": "2024-11-27T19:49:06.425947Z"
    }
   }
  },
  {
   "cell_type": "code",
   "execution_count": 9,
   "id": "eecb20be-b2fd-451d-a065-8a79cefb1d7b",
   "metadata": {
    "ExecuteTime": {
     "end_time": "2024-11-27T19:49:40.559034100Z",
     "start_time": "2024-11-27T19:49:29.399126800Z"
    }
   },
   "outputs": [
    {
     "ename": "KeyboardInterrupt",
     "evalue": "",
     "output_type": "error",
     "traceback": [
      "\u001B[1;31m---------------------------------------------------------------------------\u001B[0m",
      "\u001B[1;31mKeyboardInterrupt\u001B[0m                         Traceback (most recent call last)",
      "Cell \u001B[1;32mIn[9], line 30\u001B[0m\n\u001B[0;32m     27\u001B[0m \u001B[38;5;28;01mfor\u001B[39;00m i \u001B[38;5;129;01min\u001B[39;00m \u001B[38;5;28mrange\u001B[39m(\u001B[38;5;241m10\u001B[39m):\n\u001B[0;32m     28\u001B[0m   \u001B[38;5;28;01mfor\u001B[39;00m j \u001B[38;5;129;01min\u001B[39;00m \u001B[38;5;28mrange\u001B[39m(\u001B[38;5;241m10\u001B[39m):\n\u001B[1;32m---> 30\u001B[0m       mybox \u001B[38;5;241m=\u001B[39m \u001B[43mbox\u001B[49m\u001B[43m(\u001B[49m\u001B[43mpos\u001B[49m\u001B[38;5;241;43m=\u001B[39;49m\u001B[43mvector\u001B[49m\u001B[43m(\u001B[49m\u001B[43mj\u001B[49m\u001B[38;5;241;43m*\u001B[39;49m\u001B[38;5;241;43m21\u001B[39;49m\u001B[43m,\u001B[49m\u001B[43mi\u001B[49m\u001B[38;5;241;43m*\u001B[39;49m\u001B[38;5;241;43m21\u001B[39;49m\u001B[43m,\u001B[49m\u001B[43m \u001B[49m\u001B[43mheight\u001B[49m\u001B[43m[\u001B[49m\u001B[43mi\u001B[49m\u001B[38;5;241;43m*\u001B[39;49m\u001B[38;5;241;43m10\u001B[39;49m\u001B[38;5;241;43m+\u001B[39;49m\u001B[43mj\u001B[49m\u001B[43m]\u001B[49m\u001B[38;5;241;43m*\u001B[39;49m\u001B[38;5;241;43m20\u001B[39;49m\u001B[43m)\u001B[49m\u001B[43m,\u001B[49m\u001B[43m \u001B[49m\u001B[43msize\u001B[49m\u001B[38;5;241;43m=\u001B[39;49m\u001B[43mvector\u001B[49m\u001B[43m(\u001B[49m\u001B[38;5;241;43m20\u001B[39;49m\u001B[43m,\u001B[49m\u001B[38;5;241;43m20\u001B[39;49m\u001B[43m,\u001B[49m\u001B[38;5;241;43m20\u001B[39;49m\u001B[43m)\u001B[49m\u001B[43m,\u001B[49m\u001B[43m \u001B[49m\u001B[43mcolor\u001B[49m\u001B[38;5;241;43m=\u001B[39;49m\u001B[43mcolor\u001B[49m\u001B[38;5;241;43m.\u001B[39;49m\u001B[43mred\u001B[49m\u001B[43m)\u001B[49m\n\u001B[0;32m     32\u001B[0m       \u001B[38;5;28mmap\u001B[39m[i][j] \u001B[38;5;241m=\u001B[39m {\u001B[38;5;124m\"\u001B[39m\u001B[38;5;124mheight\u001B[39m\u001B[38;5;124m\"\u001B[39m: height[i\u001B[38;5;241m*\u001B[39m\u001B[38;5;241m10\u001B[39m\u001B[38;5;241m+\u001B[39mj],\u001B[38;5;124m\"\u001B[39m\u001B[38;5;124mcolour\u001B[39m\u001B[38;5;124m\"\u001B[39m: colour[i\u001B[38;5;241m*\u001B[39m\u001B[38;5;241m10\u001B[39m\u001B[38;5;241m+\u001B[39mj], \u001B[38;5;124m\"\u001B[39m\u001B[38;5;124mbox\u001B[39m\u001B[38;5;124m\"\u001B[39m:mybox}\n\u001B[0;32m     34\u001B[0m \u001B[38;5;28;01mdef\u001B[39;00m \u001B[38;5;21mlightboat\u001B[39m(\u001B[38;5;28mmap\u001B[39m):\u001B[38;5;66;03m#start at 0,0(top left corner facing right)\u001B[39;00m\n",
      "File \u001B[1;32m~\\AppData\\Local\\Programs\\Python\\Python311\\Lib\\site-packages\\vpython\\vpython.py:1183\u001B[0m, in \u001B[0;36mbox.__init__\u001B[1;34m(self, **args)\u001B[0m\n\u001B[0;32m   1181\u001B[0m args[\u001B[38;5;124m'\u001B[39m\u001B[38;5;124m_default_size\u001B[39m\u001B[38;5;124m'\u001B[39m] \u001B[38;5;241m=\u001B[39m vector(\u001B[38;5;241m1\u001B[39m,\u001B[38;5;241m1\u001B[39m,\u001B[38;5;241m1\u001B[39m)\n\u001B[0;32m   1182\u001B[0m args[\u001B[38;5;124m'\u001B[39m\u001B[38;5;124m_objName\u001B[39m\u001B[38;5;124m'\u001B[39m] \u001B[38;5;241m=\u001B[39m \u001B[38;5;124m\"\u001B[39m\u001B[38;5;124mbox\u001B[39m\u001B[38;5;124m\"\u001B[39m\n\u001B[1;32m-> 1183\u001B[0m \u001B[38;5;28;43msuper\u001B[39;49m\u001B[43m(\u001B[49m\u001B[43mbox\u001B[49m\u001B[43m,\u001B[49m\u001B[43m \u001B[49m\u001B[38;5;28;43mself\u001B[39;49m\u001B[43m)\u001B[49m\u001B[38;5;241;43m.\u001B[39;49m\u001B[43msetup\u001B[49m\u001B[43m(\u001B[49m\u001B[43margs\u001B[49m\u001B[43m)\u001B[49m\n",
      "File \u001B[1;32m~\\AppData\\Local\\Programs\\Python\\Python311\\Lib\\site-packages\\vpython\\vpython.py:612\u001B[0m, in \u001B[0;36mstandardAttributes.setup\u001B[1;34m(self, args)\u001B[0m\n\u001B[0;32m    611\u001B[0m \u001B[38;5;28;01mdef\u001B[39;00m \u001B[38;5;21msetup\u001B[39m(\u001B[38;5;28mself\u001B[39m, args):\n\u001B[1;32m--> 612\u001B[0m     \u001B[38;5;28;43msuper\u001B[39;49m\u001B[43m(\u001B[49m\u001B[43mstandardAttributes\u001B[49m\u001B[43m,\u001B[49m\u001B[43m \u001B[49m\u001B[38;5;28;43mself\u001B[39;49m\u001B[43m)\u001B[49m\u001B[38;5;241;43m.\u001B[39;49m\u001B[38;5;21;43m__init__\u001B[39;49m\u001B[43m(\u001B[49m\u001B[43m)\u001B[49m\n\u001B[0;32m    613\u001B[0m     \u001B[38;5;28mself\u001B[39m\u001B[38;5;241m.\u001B[39m_constructing \u001B[38;5;241m=\u001B[39m \u001B[38;5;28;01mTrue\u001B[39;00m  \u001B[38;5;66;03m## calls to setters are from constructor\u001B[39;00m\n\u001B[0;32m    615\u001B[0m     objName \u001B[38;5;241m=\u001B[39m \u001B[38;5;28mself\u001B[39m\u001B[38;5;241m.\u001B[39m_objName \u001B[38;5;241m=\u001B[39m args[\u001B[38;5;124m'\u001B[39m\u001B[38;5;124m_objName\u001B[39m\u001B[38;5;124m'\u001B[39m]  \u001B[38;5;66;03m## identifies object type\u001B[39;00m\n",
      "File \u001B[1;32m~\\AppData\\Local\\Programs\\Python\\Python311\\Lib\\site-packages\\vpython\\vpython.py:265\u001B[0m, in \u001B[0;36mbaseObj.__init__\u001B[1;34m(self, **kwargs)\u001B[0m\n\u001B[0;32m    262\u001B[0m \u001B[38;5;28;01mif\u001B[39;00m \u001B[38;5;129;01mnot\u001B[39;00m (baseObj\u001B[38;5;241m.\u001B[39m_view_constructed \u001B[38;5;129;01mor\u001B[39;00m\n\u001B[0;32m    263\u001B[0m         baseObj\u001B[38;5;241m.\u001B[39m_canvas_constructing):\n\u001B[0;32m    264\u001B[0m     \u001B[38;5;28;01mif\u001B[39;00m _isnotebook:\n\u001B[1;32m--> 265\u001B[0m         \u001B[38;5;28;01mfrom\u001B[39;00m \u001B[38;5;21;01m.\u001B[39;00m\u001B[38;5;21;01mwith_notebook\u001B[39;00m \u001B[38;5;28;01mimport\u001B[39;00m _\n\u001B[0;32m    266\u001B[0m     \u001B[38;5;28;01melse\u001B[39;00m:\n\u001B[0;32m    267\u001B[0m         \u001B[38;5;28;01mfrom\u001B[39;00m \u001B[38;5;21;01m.\u001B[39;00m\u001B[38;5;21;01mno_notebook\u001B[39;00m \u001B[38;5;28;01mimport\u001B[39;00m _\n",
      "File \u001B[1;32m~\\AppData\\Local\\Programs\\Python\\Python311\\Lib\\site-packages\\vpython\\with_notebook.py:154\u001B[0m\n\u001B[0;32m    152\u001B[0m baseObj\u001B[38;5;241m.\u001B[39mglow \u001B[38;5;241m=\u001B[39m GlowWidget(wsport\u001B[38;5;241m=\u001B[39m__SOCKET_PORT, wsuri\u001B[38;5;241m=\u001B[39m\u001B[38;5;124m'\u001B[39m\u001B[38;5;124m/ws\u001B[39m\u001B[38;5;124m'\u001B[39m)\n\u001B[0;32m    153\u001B[0m \u001B[38;5;28;01mwhile\u001B[39;00m (\u001B[38;5;129;01mnot\u001B[39;00m wsConnected):\n\u001B[1;32m--> 154\u001B[0m     \u001B[43mtime\u001B[49m\u001B[38;5;241;43m.\u001B[39;49m\u001B[43msleep\u001B[49m\u001B[43m(\u001B[49m\u001B[38;5;241;43m0.1\u001B[39;49m\u001B[43m)\u001B[49m          \u001B[38;5;66;03m# wait for websocket to connect\u001B[39;00m\n\u001B[0;32m    156\u001B[0m baseObj\u001B[38;5;241m.\u001B[39mtrigger()  \u001B[38;5;66;03m# start the trigger ping-pong process\u001B[39;00m\n\u001B[0;32m    159\u001B[0m \u001B[38;5;66;03m# Same justification as above for removing the ipykernel check.\u001B[39;00m\n\u001B[0;32m    160\u001B[0m \u001B[38;5;66;03m# There was also an IPython version check for >=4, which was\u001B[39;00m\n\u001B[0;32m    161\u001B[0m \u001B[38;5;66;03m# released in Nov 2015. Ok to stop supporting in 2.019 I think.\u001B[39;00m\n",
      "\u001B[1;31mKeyboardInterrupt\u001B[0m: "
     ]
    }
   ],
   "source": [
    "from vpython import*\n",
    "\n",
    "#\"height\">height of each box, default height between boxes are n*10, otherwise it won't work\n",
    "#\"colour\"> 1:red, -1: blue\n",
    "##Current map is 10*10 plane with different heights with all red squares\n",
    "map = [[{} for _ in range(10)] for _ in range(10)] ##lists are starting from top left corner of the matrix\n",
    "colour = [1,1,1,1,1,1,1,1,1,1,\n",
    "          1,1,1,1,1,1,1,1,1,1,\n",
    "          1,1,1,1,1,1,1,1,1,1,\n",
    "          1,1,1,1,1,1,1,1,1,1,\n",
    "          1,1,1,1,1,1,1,1,1,1,\n",
    "          1,1,1,1,1,1,1,1,1,1,\n",
    "          1,1,1,1,1,1,1,1,1,1,\n",
    "          1,1,1,1,1,1,1,1,1,1,\n",
    "          1,1,1,1,1,1,1,1,1,1,\n",
    "          1,1,1,1,1,1,1,1,1,1]\n",
    "height = [0,0,0,1,1,1,0,0,0,0,\n",
    "          0,1,1,0,0,0,1,1,0,0,\n",
    "          0,1,1,0,0,0,1,1,0,0,\n",
    "          0,1,1,0,0,0,1,1,0,0,\n",
    "          0,0,0,1,1,1,0,0,0,0,\n",
    "          0,0,0,1,1,1,0,0,0,0,\n",
    "          0,1,1,0,0,0,1,1,0,0,\n",
    "          0,1,1,0,0,0,1,1,0,0,\n",
    "          0,1,1,0,0,0,1,1,0,0,\n",
    "          0,0,0,1,1,1,0,0,0,0]\n",
    "for i in range(10):\n",
    "  for j in range(10):\n",
    "\n",
    "      mybox = box(pos=vector(j*21,i*21, height[i*10+j]*20), size=vector(20,20,20), color=color.red)\n",
    "\n",
    "      map[i][j] = {\"height\": height[i*10+j],\"colour\": colour[i*10+j], \"box\":mybox}\n",
    "\n",
    "def lightboat(map):#start at 0,0(top left corner facing right)\n",
    "  print(\"WELCOME!\")\n",
    "  print(\"Alpha version of your lightbot game, you start from the yellow point.\")\n",
    "  print(\"^ = move in the direction\")\n",
    "  print(\"* = jump in the direction\")\n",
    "  print(\"< = turn right\")\n",
    "  print(\"> = turn left\")\n",
    "  print(\"@ = switch the colors!\")\n",
    "  ymax = len(map)\n",
    "  xmax = len(map[0])\n",
    "  x=0 ##j in for loop\n",
    "  y=0 ##i in for loop\n",
    "  direction = 0 ## 0-east 1-south 2-west 3-north so that i can increase the direction by 1 for every clockwise turn, south and west are flipped in the visual\n",
    "\n",
    "  while True:\n",
    "\n",
    "    command = input(\"Please enter a command:\")\n",
    "    if command==\"^\":\n",
    "      if direction == 0:\n",
    "        if map[y][x][\"height\"] == map[y][x+1][\"height\"]:\n",
    "          x = x+1\n",
    "      if direction == 1:\n",
    "        if map[y][x][\"height\"] == map[y+1][x][\"height\"]:\n",
    "          y = y+1\n",
    "      if direction == 2:\n",
    "        if map[y][x][\"height\"] == map[y][x-1][\"height\"]:\n",
    "          x = x-1\n",
    "      if direction == 3:\n",
    "        if map[y][x][\"height\"] == map[y-1][x][\"height\"]:\n",
    "          y = y-1\n",
    "    if command==\"*\":\n",
    "      if direction == 0:\n",
    "        if abs(map[y][x][\"height\"] - map[y][x+1][\"height\"])==1:\n",
    "          x = x+1\n",
    "      if direction == 1:\n",
    "        if abs(map[y][x][\"height\"] - map[y+1][x][\"height\"])==1:\n",
    "          y = y+1\n",
    "      if direction == 2:\n",
    "        if abs(map[y][x][\"height\"] - map[y][x-1][\"height\"])==1:\n",
    "          x = x-1\n",
    "      if direction == 3:\n",
    "        if abs(map[y][x][\"height\"] - map[y-1][x][\"height\"])==1:\n",
    "          y = y-1\n",
    "    if command==\"<\":\n",
    "      direction = (direction-1)%4\n",
    "    if command==\">\":\n",
    "      direction = (direction+1)%4\n",
    "    if command==\"@\":\n",
    "      map[y][x][\"colour\"] = -1*map[y][x][\"colour\"]\n",
    "    if (x == xmax) or (y == ymax) or (x == -1) or (y == -1) :\n",
    "      print(\"hehe you fell off\")\n",
    "      break\n",
    "    if command==\"q\":\n",
    "      break\n",
    "\n",
    "\n",
    "    for i in range(ymax):\n",
    "        for j in range(xmax):\n",
    "\n",
    "            if map[i][j][\"colour\"] == -1:\n",
    "              print(i, j)\n",
    "              map[i][j][\"box\"].color = color.green\n",
    "            else:\n",
    "\n",
    "              map[i][j][\"box\"].color = color.red\n",
    "\n",
    "\n",
    "\n",
    "    printMap(map,x,y,direction,xmax,ymax)\n",
    "\n",
    "lightbot_begin = sphere(pos=vec(0, 0, 21), radius=4, color=color.yellow,)\n",
    "lightbot_sphere = sphere(pos=vec(0, 0, 0), radius=2, color=color.cyan, opacity=0)\n",
    "\n",
    "def printMap(map,x,y,direction,xmax,ymax):\n",
    "  print(\"x:\", x, \"\\n y:\", y, \"\\n direction:\", direction)\n",
    "  final_map = [[0 for _ in range(xmax)] for _ in range(ymax)]\n",
    "  for i in range(ymax):\n",
    "    for j in range(xmax):\n",
    "        rate(30)\n",
    "        if i == y and j == x:\n",
    "          final_map[i][j] = str(map[i][j][\"colour\"])\n",
    "          global lightbot_sphere\n",
    "          lightbot_sphere.visible = False\n",
    "\n",
    "          if map[y][x][\"height\"] == 1:\n",
    "              lightbot_sphere = sphere(pos=vec(j*21, i*21, height[i*10+j]+41), radius=10, color=color.cyan)\n",
    "          else:\n",
    "              lightbot_sphere = sphere(pos=vec(j*21, i*21, height[i*10+j]+21), radius=10, color=color.cyan)\n",
    "        else:\n",
    "          final_map[i][j] = map[i][j][\"colour\"]\n",
    "  for i in range(ymax):\n",
    "    print(final_map[i])\n",
    "  return \"Succesfully completed\"\n",
    "\n",
    "lightboat(map)"
   ]
  },
  {
   "cell_type": "code",
   "execution_count": null,
   "outputs": [],
   "source": [],
   "metadata": {
    "collapsed": false
   }
  }
 ],
 "metadata": {
  "kernelspec": {
   "display_name": "Python 3 (ipykernel)",
   "language": "python",
   "name": "python3"
  },
  "language_info": {
   "codemirror_mode": {
    "name": "ipython",
    "version": 3
   },
   "file_extension": ".py",
   "mimetype": "text/x-python",
   "name": "python",
   "nbconvert_exporter": "python",
   "pygments_lexer": "ipython3",
   "version": "3.12.7"
  }
 },
 "nbformat": 4,
 "nbformat_minor": 5
}
